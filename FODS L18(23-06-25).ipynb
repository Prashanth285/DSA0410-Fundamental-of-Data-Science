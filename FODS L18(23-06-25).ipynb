{
 "cells": [
  {
   "cell_type": "code",
   "execution_count": 1,
   "id": "6bab3543-1d07-40cf-b781-178096411136",
   "metadata": {},
   "outputs": [
    {
     "name": "stdout",
     "output_type": "stream",
     "text": [
      "Object `posts` not found.\n",
      "Frequency distribution of likes among posts:\n",
      "Likes\n",
      "10    3\n",
      "15    2\n",
      "20    2\n",
      "25    1\n",
      "Name: count, dtype: int64\n"
     ]
    }
   ],
   "source": [
    "among the posts?\n",
    "import pandas as pd\n",
    "data = {\n",
    "    'PostID': [201, 202, 203, 204, 205, 206, 207, 208],\n",
    "    'Likes': [10, 15, 10, 20, 15, 10, 25, 20]\n",
    "}\n",
    "df = pd.DataFrame(data)\n",
    "like_frequency = df['Likes'].value_counts().sort_index()\n",
    "print(\"Frequency distribution of likes among posts:\")\n",
    "print(like_frequency)\n"
   ]
  },
  {
   "cell_type": "code",
   "execution_count": null,
   "id": "8a494e64-d321-4c67-9f5d-9df4bc6bb7e8",
   "metadata": {},
   "outputs": [],
   "source": []
  }
 ],
 "metadata": {
  "kernelspec": {
   "display_name": "Python [conda env:base] *",
   "language": "python",
   "name": "conda-base-py"
  },
  "language_info": {
   "codemirror_mode": {
    "name": "ipython",
    "version": 3
   },
   "file_extension": ".py",
   "mimetype": "text/x-python",
   "name": "python",
   "nbconvert_exporter": "python",
   "pygments_lexer": "ipython3",
   "version": "3.12.7"
  }
 },
 "nbformat": 4,
 "nbformat_minor": 5
}
