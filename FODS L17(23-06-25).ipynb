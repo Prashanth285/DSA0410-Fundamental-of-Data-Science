{
 "cells": [
  {
   "cell_type": "code",
   "execution_count": 1,
   "id": "d91ef8fc-6711-4bdc-bbe0-3053c25de642",
   "metadata": {},
   "outputs": [
    {
     "name": "stdout",
     "output_type": "stream",
     "text": [
      "Frequency distribution of customer ages:\n",
      "Age\n",
      "22    2\n",
      "25    3\n",
      "30    2\n",
      "40    1\n",
      "Name: count, dtype: int64\n"
     ]
    }
   ],
   "source": [
    "import pandas as pd\n",
    "\n",
    "data = {\n",
    "    'CustomerID': [101, 102, 103, 104, 105, 106, 107, 108],\n",
    "    'Age': [25, 30, 22, 25, 30, 40, 22, 25],\n",
    "    'PurchaseAmount': [200, 150, 180, 210, 160, 300, 190, 220]\n",
    "}\n",
    "\n",
    "df = pd.DataFrame(data)\n",
    "age_frequency = df['Age'].value_counts().sort_index()\n",
    "\n",
    "print(\"Frequency distribution of customer ages:\")\n",
    "print(age_frequency)\n"
   ]
  },
  {
   "cell_type": "code",
   "execution_count": null,
   "id": "9002d4b2-e836-4002-aab7-7864057c9f7a",
   "metadata": {},
   "outputs": [],
   "source": []
  }
 ],
 "metadata": {
  "kernelspec": {
   "display_name": "Python [conda env:base] *",
   "language": "python",
   "name": "conda-base-py"
  },
  "language_info": {
   "codemirror_mode": {
    "name": "ipython",
    "version": 3
   },
   "file_extension": ".py",
   "mimetype": "text/x-python",
   "name": "python",
   "nbconvert_exporter": "python",
   "pygments_lexer": "ipython3",
   "version": "3.12.7"
  }
 },
 "nbformat": 4,
 "nbformat_minor": 5
}
