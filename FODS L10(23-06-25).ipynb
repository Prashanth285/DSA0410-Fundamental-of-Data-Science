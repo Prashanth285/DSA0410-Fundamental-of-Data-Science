{
 "cells": [
  {
   "cell_type": "code",
   "execution_count": 2,
   "id": "fab2998f-2412-4ec3-8705-c8801f3f8112",
   "metadata": {},
   "outputs": [
    {
     "name": "stdout",
     "output_type": "stream",
     "text": [
      "1.Orders per customer:\n",
      "customer_id\n",
      "101    2\n",
      "102    2\n",
      "103    1\n",
      "Name: count, dtype: int64\n",
      "\n",
      "2.Average quantity per product:\n",
      "product_name\n",
      "Gadget    3.0\n",
      "Widget    3.0\n",
      "Name: order_quantity, dtype: float64\n",
      "\n",
      "3.Earliest order date: 2023-01-10 00:00:00\n",
      "Latest order date: 2023-03-05 00:00:00\n"
     ]
    }
   ],
   "source": [
    "import pandas as pd\n",
    "\n",
    "order_data = pd.DataFrame({\n",
    "    'customer_id': [101, 102, 101, 103, 102],\n",
    "    'order_date': pd.to_datetime(['2023-01-10', '2023-01-15', '2023-02-01', '2023-01-20', '2023-03-05']),\n",
    "    'product_name': ['Widget', 'Gadget', 'Widget', 'Widget', 'Gadget'],\n",
    "    'order_quantity': [3, 5, 2, 4, 1]\n",
    "})\n",
    "\n",
    "orders_per_customer = order_data['customer_id'].value_counts()\n",
    "avg_quantity_per_product = order_data.groupby('product_name')['order_quantity'].mean()\n",
    "earliest_order = order_data['order_date'].min()\n",
    "latest_order = order_data['order_date'].max()\n",
    "\n",
    "print(\"1.Orders per customer:\")\n",
    "print(orders_per_customer)\n",
    "\n",
    "print(\"\\n2.Average quantity per product:\")\n",
    "print(avg_quantity_per_product)\n",
    "\n",
    "print(f\"\\n3.Earliest order date: {earliest_order}\")\n",
    "print(f\"Latest order date: {latest_order}\")\n"
   ]
  },
  {
   "cell_type": "code",
   "execution_count": null,
   "id": "b3a2b7d9-673c-4fdd-b1e3-5b475f43a36e",
   "metadata": {},
   "outputs": [],
   "source": []
  }
 ],
 "metadata": {
  "kernelspec": {
   "display_name": "Python [conda env:base] *",
   "language": "python",
   "name": "conda-base-py"
  },
  "language_info": {
   "codemirror_mode": {
    "name": "ipython",
    "version": 3
   },
   "file_extension": ".py",
   "mimetype": "text/x-python",
   "name": "python",
   "nbconvert_exporter": "python",
   "pygments_lexer": "ipython3",
   "version": "3.12.7"
  }
 },
 "nbformat": 4,
 "nbformat_minor": 5
}
