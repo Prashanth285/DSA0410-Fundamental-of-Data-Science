{
 "cells": [
  {
   "cell_type": "code",
   "execution_count": 1,
   "id": "1bbb094f-f5dd-4de0-be2c-bd09d86bcdfd",
   "metadata": {},
   "outputs": [
    {
     "name": "stdout",
     "output_type": "stream",
     "text": [
      "Frequency distribution of words in customer reviews:\n",
      "Counter({'product': 2, 'quality': 2, 'but': 2, 'great': 1, 'really': 1, 'loved': 1, 'it': 1, 'good': 1, 'too': 1, 'expensive': 1, 'amazing': 1, 'worth': 1, 'the': 1, 'price': 1, 'not': 1, 'bad': 1, 'expected': 1, 'better': 1})\n"
     ]
    }
   ],
   "source": [
    "import pandas as pd\n",
    "from collections import Counter\n",
    "import string\n",
    "data = {\n",
    "    'ReviewID': [1, 2, 3, 4],\n",
    "    'ReviewText': [\n",
    "        \"Great product, really loved it!\",\n",
    "        \"Good quality, but too expensive.\",\n",
    "        \"Amazing product, worth the price.\",\n",
    "        \"Not bad, but expected better quality.\"\n",
    "    ]\n",
    "}\n",
    "df = pd.DataFrame(data)\n",
    "all_reviews = ' '.join(df['ReviewText'].str.lower())\n",
    "all_reviews = all_reviews.translate(str.maketrans('', '', string.punctuation))\n",
    "words = all_reviews.split()\n",
    "word_freq = Counter(words)\n",
    "print(\"Frequency distribution of words in customer reviews:\")\n",
    "print(word_freq)\n"
   ]
  },
  {
   "cell_type": "code",
   "execution_count": null,
   "id": "8c83cb05-d6b8-412d-9c35-bb4f2f2950ce",
   "metadata": {},
   "outputs": [],
   "source": []
  }
 ],
 "metadata": {
  "kernelspec": {
   "display_name": "Python [conda env:base] *",
   "language": "python",
   "name": "conda-base-py"
  },
  "language_info": {
   "codemirror_mode": {
    "name": "ipython",
    "version": 3
   },
   "file_extension": ".py",
   "mimetype": "text/x-python",
   "name": "python",
   "nbconvert_exporter": "python",
   "pygments_lexer": "ipython3",
   "version": "3.12.7"
  }
 },
 "nbformat": 4,
 "nbformat_minor": 5
}
