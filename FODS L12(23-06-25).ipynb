{
 "cells": [
  {
   "cell_type": "code",
   "execution_count": 1,
   "id": "cf74b861-92fc-4775-b4f4-f554d2fc9d1a",
   "metadata": {},
   "outputs": [
    {
     "name": "stdout",
     "output_type": "stream",
     "text": [
      "1.Average listing price by location:\n",
      "location\n",
      "Downtown    325000.0\n",
      "Rural       200000.0\n",
      "Suburb      475000.0\n",
      "Name: listing_price, dtype: float64\n",
      "\n",
      "2.Number of properties with more than 4 bedrooms: 2\n",
      "\n",
      "3.Property with the largest area:\n",
      "property_id           4\n",
      "location         Suburb\n",
      "bedrooms              6\n",
      "area_sqft          3000\n",
      "listing_price    500000\n",
      "Name: 3, dtype: object\n"
     ]
    }
   ],
   "source": [
    "import pandas as pd\n",
    "\n",
    "property_data = pd.DataFrame({\n",
    "    'property_id': [1, 2, 3, 4, 5],\n",
    "    'location': ['Downtown', 'Suburb', 'Downtown', 'Suburb', 'Rural'],\n",
    "    'bedrooms': [3, 5, 4, 6, 2],\n",
    "    'area_sqft': [1500, 2500, 1800, 3000, 1200],\n",
    "    'listing_price': [300000, 450000, 350000, 500000, 200000]\n",
    "})\n",
    "\n",
    "avg_price_by_location = property_data.groupby('location')['listing_price'].mean()\n",
    "num_properties_gt_4_bedrooms = property_data[property_data['bedrooms'] > 4].shape[0]\n",
    "largest_area_property = property_data.loc[property_data['area_sqft'].idxmax()]\n",
    "\n",
    "print(\"1.Average listing price by location:\")\n",
    "print(avg_price_by_location)\n",
    "print(f\"\\n2.Number of properties with more than 4 bedrooms: {num_properties_gt_4_bedrooms}\")\n",
    "print(\"\\n3.Property with the largest area:\")\n",
    "print(largest_area_property)\n"
   ]
  },
  {
   "cell_type": "code",
   "execution_count": null,
   "id": "bf4ce815-b06a-4c1c-846a-2eb17c685763",
   "metadata": {},
   "outputs": [],
   "source": []
  }
 ],
 "metadata": {
  "kernelspec": {
   "display_name": "Python [conda env:base] *",
   "language": "python",
   "name": "conda-base-py"
  },
  "language_info": {
   "codemirror_mode": {
    "name": "ipython",
    "version": 3
   },
   "file_extension": ".py",
   "mimetype": "text/x-python",
   "name": "python",
   "nbconvert_exporter": "python",
   "pygments_lexer": "ipython3",
   "version": "3.12.7"
  }
 },
 "nbformat": 4,
 "nbformat_minor": 5
}
