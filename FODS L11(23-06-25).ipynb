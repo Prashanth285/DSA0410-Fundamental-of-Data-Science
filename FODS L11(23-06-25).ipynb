{
 "cells": [
  {
   "cell_type": "code",
   "execution_count": null,
   "id": "5b573934-d37e-42fe-be61-60b4cdfe69a9",
   "metadata": {},
   "outputs": [],
   "source": [
    "import pandas as pd\n",
    "\n",
    "sales_data = pd.DataFrame({\n",
    "    'product_name': ['A', 'B', 'A', 'C', 'B', 'D', 'E', 'A', 'C', 'D'],\n",
    "    'quantity_sold': [5, 3, 2, 7, 1, 4, 6, 3, 2, 5]\n",
    "})\n",
    "\n",
    "top_products = sales_data.groupby('product_name')['quantity_sold'].sum().sort_values(ascending=False).head(5)\n",
    "\n",
    "print(\"Top 5 products sold the most:\")\n",
    "print(top_products)\n"
   ]
  }
 ],
 "metadata": {
  "kernelspec": {
   "display_name": "Python [conda env:base] *",
   "language": "python",
   "name": "conda-base-py"
  },
  "language_info": {
   "codemirror_mode": {
    "name": "ipython",
    "version": 3
   },
   "file_extension": ".py",
   "mimetype": "text/x-python",
   "name": "python",
   "nbconvert_exporter": "python",
   "pygments_lexer": "ipython3",
   "version": "3.12.7"
  }
 },
 "nbformat": 4,
 "nbformat_minor": 5
}
